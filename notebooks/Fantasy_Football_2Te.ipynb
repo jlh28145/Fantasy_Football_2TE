{
 "cells": [
  {
   "cell_type": "markdown",
   "metadata": {},
   "source": [
    "# Table of Contents\n",
    "* [EDA on Tight End Performance over the last 10 years](#intro)\n",
    "* [Importing Libraries and Data](#import)\n",
    "* [Exploratory Data Analysis](#eda)\n",
    "* [Normality Test](#stats)\n",
    "* [Splitting Data](#train_split)\n",
    "* [Preprocessing Data](#preprocessing)\n",
    "* [Setting Model](#set)\n",
    "* [Training Model](#training)\n",
    "* [Best Results](#compare_results)\n",
    "* [Finalizing Workflow](#workflow)\n",
    "* [Fitting the final model](#fit)\n",
    "* [API (FastAPI)](#api)\n",
    "* [Interface(Streamlit)](#interface)\n",
    "* [Automation(Docker)](#auto)\n",
    "* [Saving Files](#store)\n",
    "* [Conclusion](#conclusion)"
   ]
  },
  {
   "cell_type": "markdown",
   "metadata": {},
   "source": [
    "## EDA on Tight End Performance over the last 10 years <a class=\"anchor\" id=\"intro\"></a>\n",
    "Reports are coming out about how the I. Likely usage will go up and I am going to research the liklihood that two Tight Ends from one team can be fantasy relevent. "
   ]
  },
  {
   "cell_type": "markdown",
   "metadata": {},
   "source": [
    "## Importing Libraries and Data<a id=\"import\"></a>"
   ]
  },
  {
   "cell_type": "code",
   "execution_count": 79,
   "metadata": {},
   "outputs": [],
   "source": [
    "import nfl_data_py as nfl\n",
    "import numpy as np\n",
    "import pandas as pd\n",
    "\n",
    "years = list(range(2014,2024))\n",
    "data = nfl.import_seasonal_data(years, 'REG')"
   ]
  },
  {
   "cell_type": "code",
   "execution_count": 80,
   "metadata": {},
   "outputs": [
    {
     "data": {
      "text/plain": [
       "Index(['player_id', 'season', 'season_type', 'completions', 'attempts',\n",
       "       'passing_yards', 'passing_tds', 'interceptions', 'sacks', 'sack_yards',\n",
       "       'sack_fumbles', 'sack_fumbles_lost', 'passing_air_yards',\n",
       "       'passing_yards_after_catch', 'passing_first_downs', 'passing_epa',\n",
       "       'passing_2pt_conversions', 'pacr', 'dakota', 'carries', 'rushing_yards',\n",
       "       'rushing_tds', 'rushing_fumbles', 'rushing_fumbles_lost',\n",
       "       'rushing_first_downs', 'rushing_epa', 'rushing_2pt_conversions',\n",
       "       'receptions', 'targets', 'receiving_yards', 'receiving_tds',\n",
       "       'receiving_fumbles', 'receiving_fumbles_lost', 'receiving_air_yards',\n",
       "       'receiving_yards_after_catch', 'receiving_first_downs', 'receiving_epa',\n",
       "       'receiving_2pt_conversions', 'racr', 'target_share', 'air_yards_share',\n",
       "       'wopr_x', 'special_teams_tds', 'fantasy_points', 'fantasy_points_ppr',\n",
       "       'games', 'tgt_sh', 'ay_sh', 'yac_sh', 'wopr_y', 'ry_sh', 'rtd_sh',\n",
       "       'rfd_sh', 'rtdfd_sh', 'dom', 'w8dom', 'yptmpa', 'ppr_sh'],\n",
       "      dtype='object')"
      ]
     },
     "execution_count": 80,
     "metadata": {},
     "output_type": "execute_result"
    }
   ],
   "source": [
    "data.columns"
   ]
  },
  {
   "cell_type": "code",
   "execution_count": 81,
   "metadata": {},
   "outputs": [],
   "source": [
    "ids = nfl.import_ids()\n",
    "data_name = pd.merge(data,ids,how='left',left_on='player_id',right_on='gsis_id')\n",
    "data_name.drop(['mfl_id',\n",
    "       'sportradar_id', 'fantasypros_id', 'gsis_id', 'pff_id', 'sleeper_id',\n",
    "       'nfl_id', 'espn_id', 'yahoo_id', 'fleaflicker_id', 'cbs_id',\n",
    "       'rotowire_id', 'rotoworld_id', 'ktc_id', 'pfr_id', 'cfbref_id',\n",
    "       'stats_id', 'stats_global_id', 'fantasy_data_id', 'swish_id',\n",
    "       'merge_name', 'birthdate', 'age', 'draft_year',\n",
    "       'draft_round', 'draft_pick', 'draft_ovr', 'twitter_username', 'height',\n",
    "       'weight', 'college', 'db_season'],axis=1,inplace=True)\n",
    "data_name.drop(['season_type'],axis=1,inplace=True)\n",
    "\n",
    "te_data = data_name[data_name['position']=='TE']"
   ]
  },
  {
   "cell_type": "code",
   "execution_count": 82,
   "metadata": {},
   "outputs": [
    {
     "data": {
      "text/plain": [
       "Index(['player_id', 'season', 'completions', 'attempts', 'passing_yards',\n",
       "       'passing_tds', 'interceptions', 'sacks', 'sack_yards', 'sack_fumbles',\n",
       "       'sack_fumbles_lost', 'passing_air_yards', 'passing_yards_after_catch',\n",
       "       'passing_first_downs', 'passing_epa', 'passing_2pt_conversions', 'pacr',\n",
       "       'dakota', 'carries', 'rushing_yards', 'rushing_tds', 'rushing_fumbles',\n",
       "       'rushing_fumbles_lost', 'rushing_first_downs', 'rushing_epa',\n",
       "       'rushing_2pt_conversions', 'receptions', 'targets', 'receiving_yards',\n",
       "       'receiving_tds', 'receiving_fumbles', 'receiving_fumbles_lost',\n",
       "       'receiving_air_yards', 'receiving_yards_after_catch',\n",
       "       'receiving_first_downs', 'receiving_epa', 'receiving_2pt_conversions',\n",
       "       'racr', 'target_share', 'air_yards_share', 'wopr_x',\n",
       "       'special_teams_tds', 'fantasy_points', 'fantasy_points_ppr', 'games',\n",
       "       'tgt_sh', 'ay_sh', 'yac_sh', 'wopr_y', 'ry_sh', 'rtd_sh', 'rfd_sh',\n",
       "       'rtdfd_sh', 'dom', 'w8dom', 'yptmpa', 'ppr_sh', 'name', 'position',\n",
       "       'team'],\n",
       "      dtype='object')"
      ]
     },
     "execution_count": 82,
     "metadata": {},
     "output_type": "execute_result"
    }
   ],
   "source": [
    "te_data.columns"
   ]
  },
  {
   "cell_type": "code",
   "execution_count": 83,
   "metadata": {},
   "outputs": [],
   "source": [
    "#te_data.to_csv('./../data/raw/te_data_2014_2024.csv')"
   ]
  },
  {
   "cell_type": "code",
   "execution_count": 84,
   "metadata": {},
   "outputs": [
    {
     "name": "stderr",
     "output_type": "stream",
     "text": [
      "/tmp/ipykernel_3675/1052482538.py:6: SettingWithCopyWarning: \n",
      "A value is trying to be set on a copy of a slice from a DataFrame\n",
      "\n",
      "See the caveats in the documentation: https://pandas.pydata.org/pandas-docs/stable/user_guide/indexing.html#returning-a-view-versus-a-copy\n",
      "  te_data.drop(columns,axis=1,inplace=True)\n"
     ]
    }
   ],
   "source": [
    "columns = ['completions', 'attempts', 'passing_yards',\n",
    "       'passing_tds', 'interceptions', 'sacks', 'sack_yards', 'sack_fumbles',\n",
    "       'sack_fumbles_lost', 'passing_air_yards', 'passing_yards_after_catch',\n",
    "       'passing_first_downs', 'passing_epa', 'passing_2pt_conversions', 'pacr',\n",
    "       'dakota']\n",
    "te_data.drop(columns,axis=1,inplace=True)"
   ]
  },
  {
   "cell_type": "code",
   "execution_count": 85,
   "metadata": {},
   "outputs": [
    {
     "data": {
      "text/plain": [
       "<pandas.core.groupby.generic.DataFrameGroupBy object at 0x7682c55cfd00>"
      ]
     },
     "execution_count": 85,
     "metadata": {},
     "output_type": "execute_result"
    }
   ],
   "source": [
    "te_data.groupby('season')"
   ]
  },
  {
   "cell_type": "code",
   "execution_count": 86,
   "metadata": {},
   "outputs": [
    {
     "name": "stderr",
     "output_type": "stream",
     "text": [
      "/tmp/ipykernel_3675/3060239183.py:2: SettingWithCopyWarning: \n",
      "A value is trying to be set on a copy of a slice from a DataFrame.\n",
      "Try using .loc[row_indexer,col_indexer] = value instead\n",
      "\n",
      "See the caveats in the documentation: https://pandas.pydata.org/pandas-docs/stable/user_guide/indexing.html#returning-a-view-versus-a-copy\n",
      "  df[\"rank\"] = df.groupby(\"season\")[\"fantasy_points_ppr\"].rank(method=\"dense\", ascending=False)\n"
     ]
    }
   ],
   "source": [
    "df = te_data\n",
    "df[\"rank\"] = df.groupby(\"season\")[\"fantasy_points_ppr\"].rank(method=\"dense\", ascending=False)"
   ]
  },
  {
   "cell_type": "code",
   "execution_count": 87,
   "metadata": {},
   "outputs": [],
   "source": [
    "top_12_df = df[df['rank'] <= 12] "
   ]
  },
  {
   "cell_type": "code",
   "execution_count": 88,
   "metadata": {},
   "outputs": [
    {
     "data": {
      "text/plain": [
       "count     10.00000\n",
       "mean     143.73000\n",
       "std        9.23015\n",
       "min      130.60000\n",
       "25%      137.22500\n",
       "50%      141.55000\n",
       "75%      151.02500\n",
       "max      160.10000\n",
       "Name: fantasy_points_ppr, dtype: float64"
      ]
     },
     "execution_count": 88,
     "metadata": {},
     "output_type": "execute_result"
    }
   ],
   "source": [
    "#On average for the last 10 years, TE #12 scores 143.73 points\n",
    "num_12_df = df[df['rank'] == 12]\n",
    "num_12_df.fantasy_points_ppr.describe()"
   ]
  },
  {
   "cell_type": "code",
   "execution_count": 89,
   "metadata": {},
   "outputs": [
    {
     "data": {
      "text/plain": [
       "season\n",
       "2014     3\n",
       "2015     3\n",
       "2016     4\n",
       "2017     5\n",
       "2018     7\n",
       "2019     9\n",
       "2020    11\n",
       "2021    13\n",
       "2022    11\n",
       "2023    12\n",
       "Name: team, dtype: int64"
      ]
     },
     "execution_count": 89,
     "metadata": {},
     "output_type": "execute_result"
    }
   ],
   "source": [
    "top_12_df.groupby('season')['team'].nunique()"
   ]
  },
  {
   "cell_type": "code",
   "execution_count": null,
   "metadata": {},
   "outputs": [],
   "source": [
    "top_12_df.groupby('season').get_group(2014)"
   ]
  },
  {
   "cell_type": "code",
   "execution_count": null,
   "metadata": {},
   "outputs": [],
   "source": [
    "rosters.columns"
   ]
  },
  {
   "cell_type": "code",
   "execution_count": 35,
   "metadata": {},
   "outputs": [],
   "source": [
    "import numpy as np\n",
    "np.float_ = np.float64\n",
    "\n",
    "rosters=nfl.import_seasonal_rosters(years)"
   ]
  },
  {
   "cell_type": "code",
   "execution_count": 78,
   "metadata": {},
   "outputs": [
    {
     "data": {
      "text/plain": [
       "'SD'"
      ]
     },
     "execution_count": 78,
     "metadata": {},
     "output_type": "execute_result"
    }
   ],
   "source": [
    "rosters.loc[(rosters['player_id'] == \"00-0021547\") & (rosters['season'] == 2014)]['team'].values[0]"
   ]
  },
  {
   "cell_type": "code",
   "execution_count": 92,
   "metadata": {},
   "outputs": [],
   "source": [
    "for index, row in top_12_df.iterrows():\n",
    "    if row['team'] == 'FA':\n",
    "        top_12_df.at[index,'team'] = rosters.loc[(rosters['player_id'] == row.player_id) & (rosters['season'] == row.season)]['team'].values[0]"
   ]
  },
  {
   "cell_type": "code",
   "execution_count": null,
   "metadata": {},
   "outputs": [],
   "source": [
    "for name_of_group, contents_of_group in top_12_df.groupby('season'):\n",
    "   print(name_of_group)\n",
    "   print(contents_of_group.sort_values(by=['team']))\n",
    "   print(contents_of_group['team'].value_counts())\n",
    "#top_12_df.groupby('season')['team'].nunique()\n",
    "#With multiple seasons having less than 12 unique teams this shows me how often 2 tight ends from one team can be fantasy relevent. Fantasy relevent means a top 12 Tight End for the year."
   ]
  },
  {
   "cell_type": "code",
   "execution_count": 143,
   "metadata": {},
   "outputs": [],
   "source": [
    "processed = pd.DataFrame()\n",
    "for name_of_group, contents_of_group in top_12_df.groupby('season'):\n",
    "   #print(name_of_group)\n",
    "   #print(contents_of_group.sort_values(by=['team']))\n",
    "   if contents_of_group['team'].duplicated().any():\n",
    "       pd.concat([processed,contents_of_group],axis=1)"
   ]
  },
  {
   "cell_type": "markdown",
   "metadata": {},
   "source": [
    "## Exploratory Data Analysis<a id=\"eda\"></a>"
   ]
  },
  {
   "cell_type": "code",
   "execution_count": 148,
   "metadata": {},
   "outputs": [],
   "source": [
    "processed = top_12_df.loc[(top_12_df.season == 2015) | (top_12_df.season == 2016) | (top_12_df.season == 2019) | (top_12_df.season == 2020)| (top_12_df.season == 2022)]"
   ]
  },
  {
   "cell_type": "code",
   "execution_count": 165,
   "metadata": {},
   "outputs": [
    {
     "name": "stdout",
     "output_type": "stream",
     "text": [
      "\n",
      "Filtered DataFrame:\n",
      "     player_id  season  carries  rushing_yards  rushing_tds  rushing_fumbles  \\\n",
      "1   00-0030061    2015        0            0.0            0              0.0   \n",
      "3   00-0030472    2015        0            0.0            0              0.0   \n",
      "0   00-0025418    2016        0            0.0            0              0.0   \n",
      "2   00-0030061    2016        0            0.0            0              0.0   \n",
      "4   00-0030472    2016        0            0.0            0              0.0   \n",
      "5   00-0031359    2016        0            0.0            0              0.0   \n",
      "6   00-0032392    2019        0            0.0            0              0.0   \n",
      "7   00-0033090    2019        0            0.0            0              0.0   \n",
      "8   00-0033757    2020        0            0.0            0              0.0   \n",
      "10  00-0035229    2020        1            0.0            0              1.0   \n",
      "9   00-0033895    2022        1            0.0            0              0.0   \n",
      "11  00-0036290    2022        2            9.0            0              0.0   \n",
      "\n",
      "    rushing_fumbles_lost  rushing_first_downs  rushing_epa  \\\n",
      "1                    0.0                  0.0     0.000000   \n",
      "3                    0.0                  0.0     0.000000   \n",
      "0                    0.0                  0.0     0.000000   \n",
      "2                    0.0                  0.0     0.000000   \n",
      "4                    0.0                  0.0     0.000000   \n",
      "5                    0.0                  0.0     0.000000   \n",
      "6                    0.0                  0.0     0.000000   \n",
      "7                    0.0                  0.0     0.000000   \n",
      "8                    0.0                  0.0     0.000000   \n",
      "10                   1.0                  0.0    -4.992892   \n",
      "9                    0.0                  0.0    -0.566809   \n",
      "11                   0.0                  1.0     1.138636   \n",
      "\n",
      "    rushing_2pt_conversions  ...    rfd_sh  rtdfd_sh       dom     w8dom  \\\n",
      "1                         0  ...  0.211957  0.200000  0.150589  0.183799   \n",
      "3                         0  ...  0.295082  0.308057  0.319141  0.274911   \n",
      "0                         0  ...  0.278351  0.265116  0.206840  0.245230   \n",
      "2                         0  ...  0.248521  0.252747  0.277221  0.258938   \n",
      "4                         0  ...  0.225275  0.232673  0.239253  0.202805   \n",
      "5                         0  ...  0.257732  0.265116  0.285420  0.256672   \n",
      "6                         0  ...  0.194313  0.199153  0.216046  0.201673   \n",
      "7                         0  ...  0.225000  0.227778  0.217904  0.198646   \n",
      "8                         0  ...  0.165829  0.181070  0.199460  0.169136   \n",
      "10                        0  ...  0.181818  0.186235  0.193326  0.175989   \n",
      "9                         0  ...  0.138095  0.141026  0.148230  0.137169   \n",
      "11                        0  ...  0.247706  0.265625  0.288906  0.241198   \n",
      "\n",
      "      yptmpa    ppr_sh             name  position  team  rank  \n",
      "1   1.431208  0.122396        Zach Ertz        TE   WAS   9.0  \n",
      "3   1.987474  0.181002      Jordan Reed        TE   WAS   3.0  \n",
      "0   1.905861  0.158963       Greg Olsen        TE   CAR   3.0  \n",
      "2   1.500000  0.160802        Zach Ertz        TE   WAS   7.0  \n",
      "4   1.465812  0.140720      Jordan Reed        TE   WAS  10.0  \n",
      "5   1.671403  0.151141  Kelvin Benjamin        TE   CAR   4.0  \n",
      "6   1.438757  0.143094    Austin Hooper        TE   NEP   6.0  \n",
      "7   1.495413  0.135662     Hunter Henry        TE   NEP   9.0  \n",
      "8   1.215768  0.110175    Robert Tonyan        TE   MIN   4.0  \n",
      "10  1.242268  0.117850   T.J. Hockenson        TE   MIN   5.0  \n",
      "9   0.853846  0.095585   Gerald Everett        TE   CHI  12.0  \n",
      "11  1.442971  0.128745        Cole Kmet        TE   CHI   8.0  \n",
      "\n",
      "[12 rows x 45 columns]\n"
     ]
    }
   ],
   "source": [
    "# Step 1: Group by 'group' column and count occurrences of each 'value'\n",
    "value_counts = processed.groupby('season')['team'].value_counts().reset_index(name='count')\n",
    "\n",
    "# Step 2: Filter to keep only the rows where 'count' is exactly 2\n",
    "values_with_exactly_two = value_counts[value_counts['count'] == 2]\n",
    "\n",
    "# Step 3: Merge the result with the original DataFrame to filter the rows\n",
    "filtered_df = processed.merge(values_with_exactly_two[['season', 'team']], on=['season', 'team'])\n",
    "\n",
    "# Display the filtered DataFrame\n",
    "print(\"\\nFiltered DataFrame:\")\n",
    "print(filtered_df.sort_values(by='season'))"
   ]
  },
  {
   "cell_type": "code",
   "execution_count": 167,
   "metadata": {},
   "outputs": [],
   "source": [
    "filtered_df = filtered_df[filtered_df.team != 'CAR']"
   ]
  },
  {
   "cell_type": "code",
   "execution_count": 168,
   "metadata": {},
   "outputs": [],
   "source": [
    "filtered_df.to_csv('./../data/processed/processed.csv', index=False)"
   ]
  },
  {
   "cell_type": "code",
   "execution_count": 169,
   "metadata": {},
   "outputs": [
    {
     "data": {
      "text/html": [
       "<div>\n",
       "<style scoped>\n",
       "    .dataframe tbody tr th:only-of-type {\n",
       "        vertical-align: middle;\n",
       "    }\n",
       "\n",
       "    .dataframe tbody tr th {\n",
       "        vertical-align: top;\n",
       "    }\n",
       "\n",
       "    .dataframe thead th {\n",
       "        text-align: right;\n",
       "    }\n",
       "</style>\n",
       "<table border=\"1\" class=\"dataframe\">\n",
       "  <thead>\n",
       "    <tr style=\"text-align: right;\">\n",
       "      <th></th>\n",
       "      <th>player_id</th>\n",
       "      <th>season</th>\n",
       "      <th>carries</th>\n",
       "      <th>rushing_yards</th>\n",
       "      <th>rushing_tds</th>\n",
       "      <th>rushing_fumbles</th>\n",
       "      <th>rushing_fumbles_lost</th>\n",
       "      <th>rushing_first_downs</th>\n",
       "      <th>rushing_epa</th>\n",
       "      <th>rushing_2pt_conversions</th>\n",
       "      <th>...</th>\n",
       "      <th>rfd_sh</th>\n",
       "      <th>rtdfd_sh</th>\n",
       "      <th>dom</th>\n",
       "      <th>w8dom</th>\n",
       "      <th>yptmpa</th>\n",
       "      <th>ppr_sh</th>\n",
       "      <th>name</th>\n",
       "      <th>position</th>\n",
       "      <th>team</th>\n",
       "      <th>rank</th>\n",
       "    </tr>\n",
       "  </thead>\n",
       "  <tbody>\n",
       "    <tr>\n",
       "      <th>1</th>\n",
       "      <td>00-0030061</td>\n",
       "      <td>2015</td>\n",
       "      <td>0</td>\n",
       "      <td>0.0</td>\n",
       "      <td>0</td>\n",
       "      <td>0.0</td>\n",
       "      <td>0.0</td>\n",
       "      <td>0.0</td>\n",
       "      <td>0.000000</td>\n",
       "      <td>0</td>\n",
       "      <td>...</td>\n",
       "      <td>0.211957</td>\n",
       "      <td>0.200000</td>\n",
       "      <td>0.150589</td>\n",
       "      <td>0.183799</td>\n",
       "      <td>1.431208</td>\n",
       "      <td>0.122396</td>\n",
       "      <td>Zach Ertz</td>\n",
       "      <td>TE</td>\n",
       "      <td>WAS</td>\n",
       "      <td>9.0</td>\n",
       "    </tr>\n",
       "    <tr>\n",
       "      <th>2</th>\n",
       "      <td>00-0030061</td>\n",
       "      <td>2016</td>\n",
       "      <td>0</td>\n",
       "      <td>0.0</td>\n",
       "      <td>0</td>\n",
       "      <td>0.0</td>\n",
       "      <td>0.0</td>\n",
       "      <td>0.0</td>\n",
       "      <td>0.000000</td>\n",
       "      <td>0</td>\n",
       "      <td>...</td>\n",
       "      <td>0.248521</td>\n",
       "      <td>0.252747</td>\n",
       "      <td>0.277221</td>\n",
       "      <td>0.258938</td>\n",
       "      <td>1.500000</td>\n",
       "      <td>0.160802</td>\n",
       "      <td>Zach Ertz</td>\n",
       "      <td>TE</td>\n",
       "      <td>WAS</td>\n",
       "      <td>7.0</td>\n",
       "    </tr>\n",
       "    <tr>\n",
       "      <th>3</th>\n",
       "      <td>00-0030472</td>\n",
       "      <td>2015</td>\n",
       "      <td>0</td>\n",
       "      <td>0.0</td>\n",
       "      <td>0</td>\n",
       "      <td>0.0</td>\n",
       "      <td>0.0</td>\n",
       "      <td>0.0</td>\n",
       "      <td>0.000000</td>\n",
       "      <td>0</td>\n",
       "      <td>...</td>\n",
       "      <td>0.295082</td>\n",
       "      <td>0.308057</td>\n",
       "      <td>0.319141</td>\n",
       "      <td>0.274911</td>\n",
       "      <td>1.987474</td>\n",
       "      <td>0.181002</td>\n",
       "      <td>Jordan Reed</td>\n",
       "      <td>TE</td>\n",
       "      <td>WAS</td>\n",
       "      <td>3.0</td>\n",
       "    </tr>\n",
       "    <tr>\n",
       "      <th>4</th>\n",
       "      <td>00-0030472</td>\n",
       "      <td>2016</td>\n",
       "      <td>0</td>\n",
       "      <td>0.0</td>\n",
       "      <td>0</td>\n",
       "      <td>0.0</td>\n",
       "      <td>0.0</td>\n",
       "      <td>0.0</td>\n",
       "      <td>0.000000</td>\n",
       "      <td>0</td>\n",
       "      <td>...</td>\n",
       "      <td>0.225275</td>\n",
       "      <td>0.232673</td>\n",
       "      <td>0.239253</td>\n",
       "      <td>0.202805</td>\n",
       "      <td>1.465812</td>\n",
       "      <td>0.140720</td>\n",
       "      <td>Jordan Reed</td>\n",
       "      <td>TE</td>\n",
       "      <td>WAS</td>\n",
       "      <td>10.0</td>\n",
       "    </tr>\n",
       "    <tr>\n",
       "      <th>6</th>\n",
       "      <td>00-0032392</td>\n",
       "      <td>2019</td>\n",
       "      <td>0</td>\n",
       "      <td>0.0</td>\n",
       "      <td>0</td>\n",
       "      <td>0.0</td>\n",
       "      <td>0.0</td>\n",
       "      <td>0.0</td>\n",
       "      <td>0.000000</td>\n",
       "      <td>0</td>\n",
       "      <td>...</td>\n",
       "      <td>0.194313</td>\n",
       "      <td>0.199153</td>\n",
       "      <td>0.216046</td>\n",
       "      <td>0.201673</td>\n",
       "      <td>1.438757</td>\n",
       "      <td>0.143094</td>\n",
       "      <td>Austin Hooper</td>\n",
       "      <td>TE</td>\n",
       "      <td>NEP</td>\n",
       "      <td>6.0</td>\n",
       "    </tr>\n",
       "    <tr>\n",
       "      <th>7</th>\n",
       "      <td>00-0033090</td>\n",
       "      <td>2019</td>\n",
       "      <td>0</td>\n",
       "      <td>0.0</td>\n",
       "      <td>0</td>\n",
       "      <td>0.0</td>\n",
       "      <td>0.0</td>\n",
       "      <td>0.0</td>\n",
       "      <td>0.000000</td>\n",
       "      <td>0</td>\n",
       "      <td>...</td>\n",
       "      <td>0.225000</td>\n",
       "      <td>0.227778</td>\n",
       "      <td>0.217904</td>\n",
       "      <td>0.198646</td>\n",
       "      <td>1.495413</td>\n",
       "      <td>0.135662</td>\n",
       "      <td>Hunter Henry</td>\n",
       "      <td>TE</td>\n",
       "      <td>NEP</td>\n",
       "      <td>9.0</td>\n",
       "    </tr>\n",
       "    <tr>\n",
       "      <th>8</th>\n",
       "      <td>00-0033757</td>\n",
       "      <td>2020</td>\n",
       "      <td>0</td>\n",
       "      <td>0.0</td>\n",
       "      <td>0</td>\n",
       "      <td>0.0</td>\n",
       "      <td>0.0</td>\n",
       "      <td>0.0</td>\n",
       "      <td>0.000000</td>\n",
       "      <td>0</td>\n",
       "      <td>...</td>\n",
       "      <td>0.165829</td>\n",
       "      <td>0.181070</td>\n",
       "      <td>0.199460</td>\n",
       "      <td>0.169136</td>\n",
       "      <td>1.215768</td>\n",
       "      <td>0.110175</td>\n",
       "      <td>Robert Tonyan</td>\n",
       "      <td>TE</td>\n",
       "      <td>MIN</td>\n",
       "      <td>4.0</td>\n",
       "    </tr>\n",
       "    <tr>\n",
       "      <th>9</th>\n",
       "      <td>00-0033895</td>\n",
       "      <td>2022</td>\n",
       "      <td>1</td>\n",
       "      <td>0.0</td>\n",
       "      <td>0</td>\n",
       "      <td>0.0</td>\n",
       "      <td>0.0</td>\n",
       "      <td>0.0</td>\n",
       "      <td>-0.566809</td>\n",
       "      <td>0</td>\n",
       "      <td>...</td>\n",
       "      <td>0.138095</td>\n",
       "      <td>0.141026</td>\n",
       "      <td>0.148230</td>\n",
       "      <td>0.137169</td>\n",
       "      <td>0.853846</td>\n",
       "      <td>0.095585</td>\n",
       "      <td>Gerald Everett</td>\n",
       "      <td>TE</td>\n",
       "      <td>CHI</td>\n",
       "      <td>12.0</td>\n",
       "    </tr>\n",
       "    <tr>\n",
       "      <th>10</th>\n",
       "      <td>00-0035229</td>\n",
       "      <td>2020</td>\n",
       "      <td>1</td>\n",
       "      <td>0.0</td>\n",
       "      <td>0</td>\n",
       "      <td>1.0</td>\n",
       "      <td>1.0</td>\n",
       "      <td>0.0</td>\n",
       "      <td>-4.992892</td>\n",
       "      <td>0</td>\n",
       "      <td>...</td>\n",
       "      <td>0.181818</td>\n",
       "      <td>0.186235</td>\n",
       "      <td>0.193326</td>\n",
       "      <td>0.175989</td>\n",
       "      <td>1.242268</td>\n",
       "      <td>0.117850</td>\n",
       "      <td>T.J. Hockenson</td>\n",
       "      <td>TE</td>\n",
       "      <td>MIN</td>\n",
       "      <td>5.0</td>\n",
       "    </tr>\n",
       "    <tr>\n",
       "      <th>11</th>\n",
       "      <td>00-0036290</td>\n",
       "      <td>2022</td>\n",
       "      <td>2</td>\n",
       "      <td>9.0</td>\n",
       "      <td>0</td>\n",
       "      <td>0.0</td>\n",
       "      <td>0.0</td>\n",
       "      <td>1.0</td>\n",
       "      <td>1.138636</td>\n",
       "      <td>0</td>\n",
       "      <td>...</td>\n",
       "      <td>0.247706</td>\n",
       "      <td>0.265625</td>\n",
       "      <td>0.288906</td>\n",
       "      <td>0.241198</td>\n",
       "      <td>1.442971</td>\n",
       "      <td>0.128745</td>\n",
       "      <td>Cole Kmet</td>\n",
       "      <td>TE</td>\n",
       "      <td>CHI</td>\n",
       "      <td>8.0</td>\n",
       "    </tr>\n",
       "  </tbody>\n",
       "</table>\n",
       "<p>10 rows × 45 columns</p>\n",
       "</div>"
      ],
      "text/plain": [
       "     player_id  season  carries  rushing_yards  rushing_tds  rushing_fumbles  \\\n",
       "1   00-0030061    2015        0            0.0            0              0.0   \n",
       "2   00-0030061    2016        0            0.0            0              0.0   \n",
       "3   00-0030472    2015        0            0.0            0              0.0   \n",
       "4   00-0030472    2016        0            0.0            0              0.0   \n",
       "6   00-0032392    2019        0            0.0            0              0.0   \n",
       "7   00-0033090    2019        0            0.0            0              0.0   \n",
       "8   00-0033757    2020        0            0.0            0              0.0   \n",
       "9   00-0033895    2022        1            0.0            0              0.0   \n",
       "10  00-0035229    2020        1            0.0            0              1.0   \n",
       "11  00-0036290    2022        2            9.0            0              0.0   \n",
       "\n",
       "    rushing_fumbles_lost  rushing_first_downs  rushing_epa  \\\n",
       "1                    0.0                  0.0     0.000000   \n",
       "2                    0.0                  0.0     0.000000   \n",
       "3                    0.0                  0.0     0.000000   \n",
       "4                    0.0                  0.0     0.000000   \n",
       "6                    0.0                  0.0     0.000000   \n",
       "7                    0.0                  0.0     0.000000   \n",
       "8                    0.0                  0.0     0.000000   \n",
       "9                    0.0                  0.0    -0.566809   \n",
       "10                   1.0                  0.0    -4.992892   \n",
       "11                   0.0                  1.0     1.138636   \n",
       "\n",
       "    rushing_2pt_conversions  ...    rfd_sh  rtdfd_sh       dom     w8dom  \\\n",
       "1                         0  ...  0.211957  0.200000  0.150589  0.183799   \n",
       "2                         0  ...  0.248521  0.252747  0.277221  0.258938   \n",
       "3                         0  ...  0.295082  0.308057  0.319141  0.274911   \n",
       "4                         0  ...  0.225275  0.232673  0.239253  0.202805   \n",
       "6                         0  ...  0.194313  0.199153  0.216046  0.201673   \n",
       "7                         0  ...  0.225000  0.227778  0.217904  0.198646   \n",
       "8                         0  ...  0.165829  0.181070  0.199460  0.169136   \n",
       "9                         0  ...  0.138095  0.141026  0.148230  0.137169   \n",
       "10                        0  ...  0.181818  0.186235  0.193326  0.175989   \n",
       "11                        0  ...  0.247706  0.265625  0.288906  0.241198   \n",
       "\n",
       "      yptmpa    ppr_sh            name  position  team  rank  \n",
       "1   1.431208  0.122396       Zach Ertz        TE   WAS   9.0  \n",
       "2   1.500000  0.160802       Zach Ertz        TE   WAS   7.0  \n",
       "3   1.987474  0.181002     Jordan Reed        TE   WAS   3.0  \n",
       "4   1.465812  0.140720     Jordan Reed        TE   WAS  10.0  \n",
       "6   1.438757  0.143094   Austin Hooper        TE   NEP   6.0  \n",
       "7   1.495413  0.135662    Hunter Henry        TE   NEP   9.0  \n",
       "8   1.215768  0.110175   Robert Tonyan        TE   MIN   4.0  \n",
       "9   0.853846  0.095585  Gerald Everett        TE   CHI  12.0  \n",
       "10  1.242268  0.117850  T.J. Hockenson        TE   MIN   5.0  \n",
       "11  1.442971  0.128745       Cole Kmet        TE   CHI   8.0  \n",
       "\n",
       "[10 rows x 45 columns]"
      ]
     },
     "execution_count": 169,
     "metadata": {},
     "output_type": "execute_result"
    }
   ],
   "source": [
    "filtered_df"
   ]
  },
  {
   "cell_type": "code",
   "execution_count": 170,
   "metadata": {},
   "outputs": [],
   "source": [
    "top_12_df.to_csv('./../data/processed/top_12_2014_2024.csv',index=False)"
   ]
  },
  {
   "cell_type": "code",
   "execution_count": 172,
   "metadata": {},
   "outputs": [
    {
     "data": {
      "text/html": [
       "<div>\n",
       "<style scoped>\n",
       "    .dataframe tbody tr th:only-of-type {\n",
       "        vertical-align: middle;\n",
       "    }\n",
       "\n",
       "    .dataframe tbody tr th {\n",
       "        vertical-align: top;\n",
       "    }\n",
       "\n",
       "    .dataframe thead th {\n",
       "        text-align: right;\n",
       "    }\n",
       "</style>\n",
       "<table border=\"1\" class=\"dataframe\">\n",
       "  <thead>\n",
       "    <tr style=\"text-align: right;\">\n",
       "      <th></th>\n",
       "      <th>count</th>\n",
       "      <th>mean</th>\n",
       "      <th>std</th>\n",
       "      <th>min</th>\n",
       "      <th>25%</th>\n",
       "      <th>50%</th>\n",
       "      <th>75%</th>\n",
       "      <th>max</th>\n",
       "    </tr>\n",
       "    <tr>\n",
       "      <th>season</th>\n",
       "      <th></th>\n",
       "      <th></th>\n",
       "      <th></th>\n",
       "      <th></th>\n",
       "      <th></th>\n",
       "      <th></th>\n",
       "      <th></th>\n",
       "      <th></th>\n",
       "    </tr>\n",
       "  </thead>\n",
       "  <tbody>\n",
       "    <tr>\n",
       "      <th>2015</th>\n",
       "      <td>2.0</td>\n",
       "      <td>6.5</td>\n",
       "      <td>6.363961</td>\n",
       "      <td>2.0</td>\n",
       "      <td>4.25</td>\n",
       "      <td>6.5</td>\n",
       "      <td>8.75</td>\n",
       "      <td>11.0</td>\n",
       "    </tr>\n",
       "    <tr>\n",
       "      <th>2016</th>\n",
       "      <td>2.0</td>\n",
       "      <td>5.0</td>\n",
       "      <td>1.414214</td>\n",
       "      <td>4.0</td>\n",
       "      <td>4.50</td>\n",
       "      <td>5.0</td>\n",
       "      <td>5.50</td>\n",
       "      <td>6.0</td>\n",
       "    </tr>\n",
       "    <tr>\n",
       "      <th>2019</th>\n",
       "      <td>2.0</td>\n",
       "      <td>5.5</td>\n",
       "      <td>0.707107</td>\n",
       "      <td>5.0</td>\n",
       "      <td>5.25</td>\n",
       "      <td>5.5</td>\n",
       "      <td>5.75</td>\n",
       "      <td>6.0</td>\n",
       "    </tr>\n",
       "    <tr>\n",
       "      <th>2020</th>\n",
       "      <td>2.0</td>\n",
       "      <td>8.5</td>\n",
       "      <td>3.535534</td>\n",
       "      <td>6.0</td>\n",
       "      <td>7.25</td>\n",
       "      <td>8.5</td>\n",
       "      <td>9.75</td>\n",
       "      <td>11.0</td>\n",
       "    </tr>\n",
       "    <tr>\n",
       "      <th>2022</th>\n",
       "      <td>2.0</td>\n",
       "      <td>5.5</td>\n",
       "      <td>2.121320</td>\n",
       "      <td>4.0</td>\n",
       "      <td>4.75</td>\n",
       "      <td>5.5</td>\n",
       "      <td>6.25</td>\n",
       "      <td>7.0</td>\n",
       "    </tr>\n",
       "  </tbody>\n",
       "</table>\n",
       "</div>"
      ],
      "text/plain": [
       "        count  mean       std  min   25%  50%   75%   max\n",
       "season                                                   \n",
       "2015      2.0   6.5  6.363961  2.0  4.25  6.5  8.75  11.0\n",
       "2016      2.0   5.0  1.414214  4.0  4.50  5.0  5.50   6.0\n",
       "2019      2.0   5.5  0.707107  5.0  5.25  5.5  5.75   6.0\n",
       "2020      2.0   8.5  3.535534  6.0  7.25  8.5  9.75  11.0\n",
       "2022      2.0   5.5  2.121320  4.0  4.75  5.5  6.25   7.0"
      ]
     },
     "execution_count": 172,
     "metadata": {},
     "output_type": "execute_result"
    }
   ],
   "source": [
    "filtered_df.groupby('season')['receiving_tds'].describe()"
   ]
  },
  {
   "cell_type": "markdown",
   "metadata": {},
   "source": [
    "#Findings\\\n",
    "The data shows that in the last ten years there has been 5 times where 2 tight ends have finished in the top 12 from the same team. The liklihood is higher than expected. "
   ]
  },
  {
   "cell_type": "markdown",
   "metadata": {},
   "source": [
    "#Next Steps\\\n",
    "Analyze the top 12 te for patterns on trends and on how the cutoff for a top 12 te. Then research I. Likely on how big of a jump from last year production that the player will have to make. \n",
    "\n",
    "Also clean the colums of the datasets. Do not need the rushing columns and most of the advanced stats."
   ]
  },
  {
   "cell_type": "code",
   "execution_count": null,
   "metadata": {},
   "outputs": [],
   "source": []
  },
  {
   "cell_type": "markdown",
   "metadata": {},
   "source": [
    "## Normality Test<a id=\"stats\"></a>"
   ]
  },
  {
   "cell_type": "markdown",
   "metadata": {},
   "source": [
    "## Splitting Data<a id=\"train_split\"></a>"
   ]
  },
  {
   "cell_type": "markdown",
   "metadata": {},
   "source": [
    "## Preprocessing Data<a id=\"preprocessing\"></a>"
   ]
  },
  {
   "cell_type": "markdown",
   "metadata": {},
   "source": [
    "## Setting Model<a id=\"set\"></a>"
   ]
  },
  {
   "cell_type": "markdown",
   "metadata": {},
   "source": [
    "## Training Model<a id=\"training\"></a>"
   ]
  },
  {
   "cell_type": "markdown",
   "metadata": {},
   "source": [
    "## Best Results<a id=\"compare_results\"></a>"
   ]
  },
  {
   "cell_type": "markdown",
   "metadata": {},
   "source": [
    "## Finalizing Workflow<a id=\"workflow\"></a>"
   ]
  },
  {
   "cell_type": "markdown",
   "metadata": {},
   "source": [
    "## Fitting the final model<a id=\"fit\"></a>"
   ]
  },
  {
   "cell_type": "markdown",
   "metadata": {},
   "source": [
    "## API (FastAPI)<a id=\"api\"></a>"
   ]
  },
  {
   "cell_type": "markdown",
   "metadata": {},
   "source": [
    "## Interface(Streamlit)<a id=\"interface\"></a>"
   ]
  },
  {
   "cell_type": "markdown",
   "metadata": {},
   "source": [
    "## Automation(Docker)<a id=\"auto\"></a>"
   ]
  },
  {
   "cell_type": "markdown",
   "metadata": {},
   "source": [
    "## Saving Files<a id=\"store\"></a>"
   ]
  },
  {
   "cell_type": "markdown",
   "metadata": {},
   "source": [
    "## Conclusion<a id=\"conclusion\"></a>"
   ]
  }
 ],
 "metadata": {
  "kernelspec": {
   "display_name": ".venv",
   "language": "python",
   "name": "python3"
  },
  "language_info": {
   "codemirror_mode": {
    "name": "ipython",
    "version": 3
   },
   "file_extension": ".py",
   "mimetype": "text/x-python",
   "name": "python",
   "nbconvert_exporter": "python",
   "pygments_lexer": "ipython3",
   "version": "3.10.12"
  }
 },
 "nbformat": 4,
 "nbformat_minor": 2
}
